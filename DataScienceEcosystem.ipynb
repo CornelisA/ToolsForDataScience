{
 "cells": [
  {
   "cell_type": "markdown",
   "id": "ca02e0f2-9e98-49d4-b35d-eb579103b5fa",
   "metadata": {},
   "source": [
    "# Data Science Tools and Ecosystem"
   ]
  },
  {
   "cell_type": "markdown",
   "id": "ea0b3125-95fd-4d51-b8e7-176c732323e1",
   "metadata": {},
   "source": [
    "## In this notebook, Data Science Tools and Ecosystem are summarized."
   ]
  },
  {
   "cell_type": "markdown",
   "id": "8f94068a-5b5c-4882-a2af-2398d7f7d89c",
   "metadata": {},
   "source": [
    "### **Objectives:**\n",
    "\n",
    "- List popular languages for Data Science\n",
    "- List popular libraries for Data Science\n",
    "- List popular development environment open source tools for Data Science\n"
   ]
  },
  {
   "cell_type": "markdown",
   "id": "a8c86f87-0a6c-4087-ba19-8fdcd9f67eb3",
   "metadata": {},
   "source": [
    "### Some of the popular languages that Data Scientists use are:\n",
    "\n",
    "1. **Python**\n",
    "2. **R**\n",
    "3. **SQL**\n"
   ]
  },
  {
   "cell_type": "markdown",
   "id": "21cbb663-9d3b-4bc3-ac76-8cc950858428",
   "metadata": {},
   "source": [
    "### Some of the commonly used libraries used by Data Scientists include:\n",
    "\n",
    "1. **NumPy**\n",
    "2. **Pandas**\n",
    "3. **Matplotlib**\n"
   ]
  },
  {
   "cell_type": "markdown",
   "id": "a7d3e9e0-db9b-4ca2-95c0-48e78a626e28",
   "metadata": {},
   "source": [
    "| Data Science Tools  |\n",
    "|----------------------|\n",
    "| Jupyter Notebook     |\n",
    "| RStudio              |\n",
    "| VS Code              |\n"
   ]
  },
  {
   "cell_type": "markdown",
   "id": "e4c968f4-6460-4652-9e9e-33275abb52bf",
   "metadata": {},
   "source": [
    "# Below are a few examples of evaluating arithmetic expressions in Python\n",
    "\n",
    "1. **Addition**: 5 + 3\n",
    "2. **Subtraction**: 10 - 4\n",
    "3. **Multiplication**: 7 * 2"
   ]
  },
  {
   "cell_type": "code",
   "execution_count": 10,
   "id": "38246f13-49e3-4dff-b1d2-f49f81b1e40b",
   "metadata": {},
   "outputs": [
    {
     "data": {
      "text/plain": [
       "17"
      ]
     },
     "execution_count": 10,
     "metadata": {},
     "output_type": "execute_result"
    }
   ],
   "source": [
    "## This is a simple arithmetic expression to multiply then add integers\n",
    "result = (3 * 4) + 5\n",
    "result\n"
   ]
  },
  {
   "cell_type": "code",
   "execution_count": 13,
   "id": "46020e97-5976-4e51-91c6-c1e7a30193d3",
   "metadata": {},
   "outputs": [
    {
     "data": {
      "text/plain": [
       "3.3333333333333335"
      ]
     },
     "execution_count": 13,
     "metadata": {},
     "output_type": "execute_result"
    }
   ],
   "source": [
    "# This will convert 200 minutes to hours by dividing by 60\n",
    "minutes = 200\n",
    "hours = minutes / 60\n",
    "hours\n"
   ]
  },
  {
   "cell_type": "code",
   "execution_count": 14,
   "id": "44ffed51-ddce-4a16-90c6-b623c1fb3bb6",
   "metadata": {},
   "outputs": [
    {
     "name": "stdout",
     "output_type": "stream",
     "text": [
      "200 minutes is equal to 3 hours and 20 minutes.\n"
     ]
    }
   ],
   "source": [
    "# This will convert 200 minutes to hours and remaining minutes by dividing by 60\n",
    "minutes = 200\n",
    "hours = minutes // 60  # Hele uren\n",
    "remaining_minutes = minutes % 60  # Overgebleven minuten\n",
    "\n",
    "print(f\"{minutes} minutes is equal to {hours} hours and {remaining_minutes} minutes.\")\n"
   ]
  },
  {
   "cell_type": "markdown",
   "id": "12aff796-df15-4009-b77d-2753dcd9a8a4",
   "metadata": {},
   "source": [
    "## Author\n",
    "\n",
    "Arjen de Booij\n"
   ]
  },
  {
   "cell_type": "code",
   "execution_count": null,
   "id": "9b17cfc0-9bcd-48ba-91dc-3e03799910f1",
   "metadata": {},
   "outputs": [],
   "source": []
  }
 ],
 "metadata": {
  "kernelspec": {
   "display_name": "Python 3 (ipykernel)",
   "language": "python",
   "name": "python3"
  },
  "language_info": {
   "codemirror_mode": {
    "name": "ipython",
    "version": 3
   },
   "file_extension": ".py",
   "mimetype": "text/x-python",
   "name": "python",
   "nbconvert_exporter": "python",
   "pygments_lexer": "ipython3",
   "version": "3.11.9"
  }
 },
 "nbformat": 4,
 "nbformat_minor": 5
}
